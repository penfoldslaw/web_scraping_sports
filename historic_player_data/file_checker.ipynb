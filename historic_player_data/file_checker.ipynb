{
 "cells": [
  {
   "cell_type": "code",
   "execution_count": null,
   "metadata": {},
   "outputs": [
    {
     "name": "stdout",
     "output_type": "stream",
     "text": [
      "File exists!\n",
      "File exists!\n",
      "File does not exist.\n",
      "File does not exist.\n",
      "['Andy Smith', 'James Gunn']\n"
     ]
    }
   ],
   "source": [
    "import os\n",
    "# \"D:\\nba_player_historic\\nba_html_2022-23\\Aaron Gordon_content.html\"\n",
    "\n",
    "list_of_names = [\"Alex Caruso\", \"Aaron Nesmith\", \"Andy Smith\", \"James Gunn\"]\n",
    "unavaliable_names = []\n",
    "for name in list_of_names:\n",
    "    file_path = f\"D:/nba_player_historic/nba_html_2023-24/{name}_content.html\"\n",
    "    # print(file_path)\n",
    "\n",
    "    if os.path.exists(file_path):\n",
    "        print(\"File exists! \")\n",
    "    else:\n",
    "        print(\"File does not exist.\")\n",
    "        unavaliable_names.append(name)\n",
    "\n",
    "print(unavaliable_names)\n"
   ]
  }
 ],
 "metadata": {
  "kernelspec": {
   "display_name": "Python 3",
   "language": "python",
   "name": "python3"
  },
  "language_info": {
   "codemirror_mode": {
    "name": "ipython",
    "version": 3
   },
   "file_extension": ".py",
   "mimetype": "text/x-python",
   "name": "python",
   "nbconvert_exporter": "python",
   "pygments_lexer": "ipython3",
   "version": "3.11.1"
  }
 },
 "nbformat": 4,
 "nbformat_minor": 2
}
