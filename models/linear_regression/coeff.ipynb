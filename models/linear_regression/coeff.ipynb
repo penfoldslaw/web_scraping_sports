{
 "cells": [
  {
   "cell_type": "code",
   "execution_count": null,
   "metadata": {},
   "outputs": [],
   "source": [
    "from pathlib import Path\n",
    "\n",
    "# Current notebook directory\n",
    "notebook_dir = Path().resolve()\n",
    "\n",
    "# Relative path to the data file\n",
    "data_path = notebook_dir / \"../../historic_player_data/nba_ph_csv\"\n",
    "\n",
    "# Resolve the full path (optional for readability)\n",
    "data_path = data_path.resolve()\n",
    "\n",
    "# Read the data\n",
    "print(notebook_dir)\n",
    "print(\"Data Path:\", data_path)\n",
    "print(\"Path Exists:\", data_path.exists())  # Ensure the path is correct\n"
   ]
  },
  {
   "cell_type": "code",
   "execution_count": 12,
   "metadata": {},
   "outputs": [
    {
     "name": "stdout",
     "output_type": "stream",
     "text": [
      "2019-20 not found either for Shai Gilgeous-Alexander or defense\n",
      "2020-21 not found either for Shai Gilgeous-Alexander or defense\n",
      "2021-22 not found either for Shai Gilgeous-Alexander or defense\n",
      "Shai Gilgeous-Alexander\n"
     ]
    },
    {
     "data": {
      "text/plain": [
       "Date      0.028524\n",
       "MIN       0.358348\n",
       "PTS       0.808315\n",
       "FGM       1.000000\n",
       "FGA       0.680789\n",
       "FG%       0.667874\n",
       "3PM       0.283568\n",
       "3PA       0.033726\n",
       "3P%       0.292457\n",
       "FTM      -0.062537\n",
       "FTA      -0.028424\n",
       "FT%      -0.188671\n",
       "OREB     -0.187650\n",
       "DREB      0.180927\n",
       "REB       0.095932\n",
       "AST       0.177689\n",
       "STL       0.161133\n",
       "BLK       0.108339\n",
       "TOV      -0.157560\n",
       "PF        0.038012\n",
       "+/-       0.188056\n",
       "DefRtg   -0.018750\n",
       "OffRtg    0.045795\n",
       "PACE     -0.113649\n",
       "Name: FGM, dtype: float64"
      ]
     },
     "metadata": {},
     "output_type": "display_data"
    },
    {
     "name": "stdout",
     "output_type": "stream",
     "text": [
      "2019-20 not found either for Cason Wallace or defense\n",
      "2020-21 not found either for Cason Wallace or defense\n",
      "2021-22 not found either for Cason Wallace or defense\n",
      "2022-23 not found either for Cason Wallace or defense\n",
      "Cason Wallace\n"
     ]
    },
    {
     "data": {
      "text/plain": [
       "Date      0.027023\n",
       "MIN       0.583454\n",
       "PTS       0.984731\n",
       "FGM       1.000000\n",
       "FGA       0.771667\n",
       "FG%       0.600523\n",
       "3PM       0.809661\n",
       "3PA       0.521741\n",
       "3P%       0.480552\n",
       "FTM       0.143747\n",
       "FTA       0.059163\n",
       "FT%       0.129746\n",
       "OREB      0.104231\n",
       "DREB      0.092610\n",
       "REB       0.143236\n",
       "AST       0.284777\n",
       "STL      -0.030370\n",
       "BLK       0.013788\n",
       "TOV       0.047465\n",
       "PF        0.230530\n",
       "+/-       0.261652\n",
       "DefRtg    0.214764\n",
       "OffRtg   -0.018858\n",
       "PACE      0.102642\n",
       "Name: FGM, dtype: float64"
      ]
     },
     "metadata": {},
     "output_type": "display_data"
    },
    {
     "name": "stdout",
     "output_type": "stream",
     "text": [
      "2019-20 not found either for Alex Caruso or defense\n",
      "2020-21 not found either for Alex Caruso or defense\n",
      "2021-22 not found either for Alex Caruso or defense\n",
      "Alex Caruso\n"
     ]
    },
    {
     "data": {
      "text/plain": [
       "Date      0.497061\n",
       "MIN       0.454991\n",
       "PTS       0.927308\n",
       "FGM       1.000000\n",
       "FGA       0.726246\n",
       "FG%       0.451033\n",
       "3PM       0.733631\n",
       "3PA       0.552043\n",
       "3P%       0.443611\n",
       "FTM      -0.087818\n",
       "FTA      -0.114004\n",
       "FT%      -0.015538\n",
       "OREB      0.114151\n",
       "DREB      0.193657\n",
       "REB       0.218089\n",
       "AST       0.306334\n",
       "STL       0.165002\n",
       "BLK       0.103021\n",
       "TOV       0.194373\n",
       "PF        0.122585\n",
       "+/-       0.069099\n",
       "DefRtg    0.042077\n",
       "OffRtg    0.253918\n",
       "PACE      0.059404\n",
       "Name: FGM, dtype: float64"
      ]
     },
     "metadata": {},
     "output_type": "display_data"
    },
    {
     "name": "stdout",
     "output_type": "stream",
     "text": [
      "2019-20 not found either for Jalen Williams or defense\n",
      "2020-21 not found either for Jalen Williams or defense\n",
      "2021-22 not found either for Jalen Williams or defense\n",
      "Jalen Williams\n"
     ]
    },
    {
     "data": {
      "text/plain": [
       "Date      0.332328\n",
       "MIN       0.441252\n",
       "PTS       0.959775\n",
       "FGM       1.000000\n",
       "FGA       0.805689\n",
       "FG%       0.746430\n",
       "3PM       0.508596\n",
       "3PA       0.279259\n",
       "3P%       0.497610\n",
       "FTM       0.302682\n",
       "FTA       0.323695\n",
       "FT%       0.179327\n",
       "OREB     -0.018733\n",
       "DREB      0.010719\n",
       "REB       0.000149\n",
       "AST       0.195432\n",
       "STL       0.089587\n",
       "BLK       0.091111\n",
       "TOV       0.069481\n",
       "PF        0.169254\n",
       "+/-       0.112193\n",
       "DefRtg    0.003579\n",
       "OffRtg    0.057169\n",
       "PACE     -0.070241\n",
       "Name: FGM, dtype: float64"
      ]
     },
     "metadata": {},
     "output_type": "display_data"
    },
    {
     "name": "stdout",
     "output_type": "stream",
     "text": [
      "2019-20 not found either for Isaiah Hartenstein or defense\n",
      "2020-21 not found either for Isaiah Hartenstein or defense\n",
      "2021-22 not found either for Isaiah Hartenstein or defense\n",
      "Isaiah Hartenstein\n"
     ]
    },
    {
     "data": {
      "text/plain": [
       "Date      0.444888\n",
       "MIN       0.501923\n",
       "PTS       0.963577\n",
       "FGM       1.000000\n",
       "FGA       0.821621\n",
       "FG%       0.424734\n",
       "3PM      -0.053175\n",
       "3PA      -0.112230\n",
       "3P%      -0.050395\n",
       "FTM       0.367869\n",
       "FTA       0.416832\n",
       "FT%       0.326227\n",
       "OREB      0.359374\n",
       "DREB      0.269896\n",
       "REB       0.352122\n",
       "AST       0.287131\n",
       "STL       0.235048\n",
       "BLK       0.230280\n",
       "TOV       0.311126\n",
       "PF        0.080641\n",
       "+/-       0.126273\n",
       "DefRtg    0.116429\n",
       "OffRtg    0.045130\n",
       "PACE      0.019784\n",
       "Name: FGM, dtype: float64"
      ]
     },
     "metadata": {},
     "output_type": "display_data"
    },
    {
     "name": "stdout",
     "output_type": "stream",
     "text": [
      "2019-20 not found either for Derrick White or defense\n",
      "2020-21 not found either for Derrick White or defense\n",
      "2021-22 not found either for Derrick White or defense\n",
      "Derrick White\n"
     ]
    },
    {
     "data": {
      "text/plain": [
       "Date      0.061093\n",
       "MIN       0.493837\n",
       "PTS       0.951753\n",
       "FGM       1.000000\n",
       "FGA       0.787197\n",
       "FG%       0.569569\n",
       "3PM       0.709350\n",
       "3PA       0.636286\n",
       "3P%       0.457628\n",
       "FTM       0.150423\n",
       "FTA       0.149914\n",
       "FT%       0.159733\n",
       "OREB      0.090978\n",
       "DREB      0.205977\n",
       "REB       0.216198\n",
       "AST       0.326651\n",
       "STL       0.059027\n",
       "BLK       0.032540\n",
       "TOV       0.161928\n",
       "PF        0.042740\n",
       "+/-       0.289951\n",
       "DefRtg    0.129612\n",
       "OffRtg   -0.125721\n",
       "PACE      0.014726\n",
       "Name: FGM, dtype: float64"
      ]
     },
     "metadata": {},
     "output_type": "display_data"
    },
    {
     "name": "stdout",
     "output_type": "stream",
     "text": [
      "2019-20 not found either for Jayson Tatum or defense\n",
      "2020-21 not found either for Jayson Tatum or defense\n",
      "2021-22 not found either for Jayson Tatum or defense\n",
      "Jayson Tatum\n"
     ]
    },
    {
     "data": {
      "text/plain": [
       "Date     -0.149996\n",
       "MIN       0.208452\n",
       "PTS       0.878829\n",
       "FGM       1.000000\n",
       "FGA       0.695397\n",
       "FG%       0.735365\n",
       "3PM       0.586754\n",
       "3PA       0.429099\n",
       "3P%       0.481827\n",
       "FTM       0.078309\n",
       "FTA       0.041555\n",
       "FT%       0.049868\n",
       "OREB      0.015374\n",
       "DREB      0.214168\n",
       "REB       0.207205\n",
       "AST      -0.034594\n",
       "STL      -0.018288\n",
       "BLK       0.026156\n",
       "TOV       0.016244\n",
       "PF        0.101015\n",
       "+/-       0.351215\n",
       "DefRtg    0.200317\n",
       "OffRtg   -0.230199\n",
       "PACE      0.220584\n",
       "Name: FGM, dtype: float64"
      ]
     },
     "metadata": {},
     "output_type": "display_data"
    },
    {
     "name": "stdout",
     "output_type": "stream",
     "text": [
      "2019-20 not found either for Kristaps Porzingis or defense\n",
      "2020-21 not found either for Kristaps Porzingis or defense\n",
      "2021-22 not found either for Kristaps Porzingis or defense\n",
      "2023-24 not found either for Kristaps Porzingis or defense\n",
      "Kristaps Porzingis\n"
     ]
    },
    {
     "data": {
      "text/plain": [
       "Date      0.221217\n",
       "MIN       0.319105\n",
       "PTS       0.867019\n",
       "FGM       1.000000\n",
       "FGA       0.621096\n",
       "FG%       0.731328\n",
       "3PM       0.526792\n",
       "3PA       0.332153\n",
       "3P%       0.473126\n",
       "FTM      -0.154243\n",
       "FTA      -0.158485\n",
       "FT%       0.019852\n",
       "OREB     -0.167040\n",
       "DREB      0.014689\n",
       "REB      -0.060276\n",
       "AST       0.281312\n",
       "STL      -0.067637\n",
       "BLK      -0.169323\n",
       "TOV      -0.018647\n",
       "PF        0.064525\n",
       "+/-       0.222438\n",
       "DefRtg   -0.091430\n",
       "OffRtg    0.036635\n",
       "PACE      0.123315\n",
       "Name: FGM, dtype: float64"
      ]
     },
     "metadata": {},
     "output_type": "display_data"
    },
    {
     "name": "stdout",
     "output_type": "stream",
     "text": [
      "2019-20 not found either for Chris Paul or defense\n",
      "2020-21 not found either for Chris Paul or defense\n",
      "2021-22 not found either for Chris Paul or defense\n",
      "Chris Paul\n"
     ]
    },
    {
     "data": {
      "text/plain": [
       "Date     -0.320949\n",
       "MIN       0.545773\n",
       "PTS       0.951786\n",
       "FGM       1.000000\n",
       "FGA       0.848350\n",
       "FG%       0.520141\n",
       "3PM       0.539299\n",
       "3PA       0.512543\n",
       "3P%       0.403448\n",
       "FTM       0.322800\n",
       "FTA       0.282833\n",
       "FT%       0.233140\n",
       "OREB      0.136767\n",
       "DREB      0.306114\n",
       "REB       0.340830\n",
       "AST       0.104700\n",
       "STL       0.032540\n",
       "BLK       0.246983\n",
       "TOV      -0.064876\n",
       "PF        0.026926\n",
       "+/-       0.177197\n",
       "DefRtg    0.074374\n",
       "OffRtg    0.052797\n",
       "PACE      0.277693\n",
       "Name: FGM, dtype: float64"
      ]
     },
     "metadata": {},
     "output_type": "display_data"
    },
    {
     "name": "stdout",
     "output_type": "stream",
     "text": [
      "2019-20 not found either for De'Aaron Fox or defense\n",
      "2020-21 not found either for De'Aaron Fox or defense\n",
      "2021-22 not found either for De'Aaron Fox or defense\n",
      "De'Aaron Fox\n"
     ]
    },
    {
     "data": {
      "text/plain": [
       "Date     -0.079925\n",
       "MIN       0.478884\n",
       "PTS       0.929907\n",
       "FGM       1.000000\n",
       "FGA       0.733917\n",
       "FG%       0.579264\n",
       "3PM       0.317902\n",
       "3PA       0.202085\n",
       "3P%       0.219425\n",
       "FTM       0.228440\n",
       "FTA       0.225270\n",
       "FT%       0.196143\n",
       "OREB      0.085528\n",
       "DREB      0.111310\n",
       "REB       0.136768\n",
       "AST       0.030962\n",
       "STL       0.249228\n",
       "BLK       0.045596\n",
       "TOV       0.105136\n",
       "PF        0.131889\n",
       "+/-       0.113385\n",
       "DefRtg    0.034702\n",
       "OffRtg    0.027289\n",
       "PACE      0.198213\n",
       "Name: FGM, dtype: float64"
      ]
     },
     "metadata": {},
     "output_type": "display_data"
    },
    {
     "name": "stdout",
     "output_type": "stream",
     "text": [
      "2019-20 not found either for Devin Vassell or defense\n",
      "2020-21 not found either for Devin Vassell or defense\n",
      "2021-22 not found either for Devin Vassell or defense\n",
      "Devin Vassell\n"
     ]
    },
    {
     "data": {
      "text/plain": [
       "Date      0.130626\n",
       "MIN       0.438090\n",
       "PTS       0.952091\n",
       "FGM       1.000000\n",
       "FGA       0.720526\n",
       "FG%       0.868565\n",
       "3PM       0.585661\n",
       "3PA       0.409662\n",
       "3P%       0.492034\n",
       "FTM       0.037874\n",
       "FTA       0.014879\n",
       "FT%       0.038739\n",
       "OREB     -0.015710\n",
       "DREB      0.101251\n",
       "REB       0.089567\n",
       "AST       0.285696\n",
       "STL       0.044780\n",
       "BLK       0.036434\n",
       "TOV       0.026160\n",
       "PF        0.033676\n",
       "+/-       0.323463\n",
       "DefRtg   -0.075967\n",
       "OffRtg    0.160815\n",
       "PACE     -0.001366\n",
       "Name: FGM, dtype: float64"
      ]
     },
     "metadata": {},
     "output_type": "display_data"
    },
    {
     "name": "stdout",
     "output_type": "stream",
     "text": [
      "2019-20 not found either for Harrison Barnes or defense\n",
      "2020-21 not found either for Harrison Barnes or defense\n",
      "2021-22 not found either for Harrison Barnes or defense\n",
      "Harrison Barnes\n"
     ]
    },
    {
     "data": {
      "text/plain": [
       "Date     -0.052186\n",
       "MIN       0.474865\n",
       "PTS       0.920285\n",
       "FGM       1.000000\n",
       "FGA       0.838974\n",
       "FG%       0.754672\n",
       "3PM       0.697970\n",
       "3PA       0.621334\n",
       "3P%       0.598528\n",
       "FTM       0.100807\n",
       "FTA       0.086455\n",
       "FT%       0.141882\n",
       "OREB      0.025253\n",
       "DREB      0.192135\n",
       "REB       0.181909\n",
       "AST       0.091113\n",
       "STL       0.091292\n",
       "BLK       0.140557\n",
       "TOV       0.069482\n",
       "PF        0.041555\n",
       "+/-       0.306747\n",
       "DefRtg    0.127714\n",
       "OffRtg    0.030095\n",
       "PACE      0.192647\n",
       "Name: FGM, dtype: float64"
      ]
     },
     "metadata": {},
     "output_type": "display_data"
    },
    {
     "name": "stdout",
     "output_type": "stream",
     "text": [
      "2019-20 not found either for Victor Wembanyama or defense\n",
      "2020-21 not found either for Victor Wembanyama or defense\n",
      "2021-22 not found either for Victor Wembanyama or defense\n",
      "2022-23 not found either for Victor Wembanyama or defense\n",
      "Victor Wembanyama\n"
     ]
    },
    {
     "data": {
      "text/plain": [
       "Date      0.149938\n",
       "MIN       0.330493\n",
       "PTS       0.891169\n",
       "FGM       1.000000\n",
       "FGA       0.785264\n",
       "FG%       0.550502\n",
       "3PM       0.396787\n",
       "3PA       0.471009\n",
       "3P%       0.169938\n",
       "FTM       0.217061\n",
       "FTA       0.328261\n",
       "FT%      -0.017687\n",
       "OREB      0.265458\n",
       "DREB      0.265820\n",
       "REB       0.332845\n",
       "AST       0.032087\n",
       "STL      -0.030679\n",
       "BLK       0.189577\n",
       "TOV       0.181298\n",
       "PF       -0.057036\n",
       "+/-       0.055657\n",
       "DefRtg    0.164093\n",
       "OffRtg    0.044121\n",
       "PACE      0.093436\n",
       "Name: FGM, dtype: float64"
      ]
     },
     "metadata": {},
     "output_type": "display_data"
    }
   ],
   "source": [
    "import pandas as pd\n",
    "import os\n",
    "from IPython.display import display\n",
    "import numpy as np\n",
    "\n",
    "\n",
    "date_list = ['2019-20', '2020-21', '2021-22', '2022-23', '2023-24']\n",
    "player_name = ['Shai Gilgeous-Alexander', 'Cason Wallace', 'Alex Caruso', 'Jalen Williams', 'Isaiah Hartenstein', 'Derrick White', 'Jayson Tatum', 'Kristaps Porzingis', \n",
    "               'Chris Paul',\"De'Aaron Fox\", \"Devin Vassell\",\"Harrison Barnes\", \"Victor Wembanyama\"]\n",
    "player_dataframes = {}  # Dictionary to store each player's DataFrame\n",
    "\n",
    "for player in player_name:\n",
    "    single_player_df = pd.DataFrame()  # Initialize a DataFrame for the current player\n",
    "    defense_df = pd.DataFrame()  # Initialize a DataFrame for the current player's defense\n",
    "    \n",
    "    for date in date_list:\n",
    "        \n",
    "        path = f\"D:/nba_player_csv_historic/season_{date}/all_quarters/{player}_content.csv\"\n",
    "        path_defense = f\"D:/nba_defense_history_csv/defense_csv_{date}/all_quarter_defense_content.csv\"\n",
    "\n",
    "        if os.path.exists(path) and os.path.exists(path_defense):\n",
    "            #player data\n",
    "            season_df_player = pd.read_csv(path)\n",
    "            season_df_player['season'] = date\n",
    "            single_player_df = pd.concat([single_player_df, season_df_player], ignore_index=True)\n",
    "            #defense data\n",
    "            defense_df_season = pd.read_csv(path_defense)\n",
    "            defense_df_season['season_defense'] = date\n",
    "            defense_df = pd.concat([defense_df, defense_df_season], ignore_index=True)\n",
    "            \n",
    "        else:\n",
    "            print(f'{date} not found either for {player} or defense')\n",
    "    \n",
    "    # Add the player's DataFrame to the dictionary \n",
    "    pd.set_option('display.max_rows', 1000)  # Maximum number of rows to display\n",
    "    pd.set_option('display.max_columns', None)  # Show all columns\n",
    "    pd.set_option('display.width', 1000)  # Adjust column width for better readability\n",
    "    \n",
    "    player_dataframes[player] = single_player_df\n",
    "\n",
    "    df_defense = defense_df[['TEAM', 'DefRtg', 'season_defense' ,'OffRtg', 'PACE']]\n",
    "\n",
    "    merged_df = pd.merge(player_dataframes[player], df_defense, how='inner', left_on=['Away','season'], right_on=['TEAM','season_defense']).reset_index(drop=True)\n",
    "    merged_df = merged_df[['Date','MIN','PTS','FGM', 'FGA', 'FG%', '3PM', '3PA', '3P%', 'FTM', 'FTA', 'FT%', \n",
    "    'OREB', 'DREB', 'REB', 'AST', 'STL', 'BLK', 'TOV', 'PF', '+/-', 'DefRtg' , 'OffRtg', 'PACE']]\n",
    "    merged_df = merged_df.sort_values(by=\"Date\")\n",
    "    merged_df['Date'] = pd.to_datetime(merged_df['Date']).astype('int64') // 10**9\n",
    "    #display(merged_df.head(5))\n",
    "\n",
    "    # train_data = merged_df[merged_df['Date'] < '2023-01-01']  # Training: First 4 seasons\n",
    "    # test_data = merged_df[merged_df['Date'] >= '2023-01-01']  # Testing: Most recent season\n",
    "\n",
    "    # Continue with your existing operations\n",
    "    timestamp = int(pd.Timestamp('2024-12-31').timestamp())\n",
    "    train_data = merged_df[merged_df['Date'] < timestamp]  # Replace '2023-01-01' with the corresponding timestamp\n",
    "    test_data = merged_df[merged_df['Date'] >= timestamp]  # Replace '2023-01-01' with the corresponding timestamp\n",
    "\n",
    "    print(player)\n",
    "    correlations = merged_df.corr()['FGM']\n",
    "    display(correlations)\n"
   ]
  }
 ],
 "metadata": {
  "kernelspec": {
   "display_name": "Python 3",
   "language": "python",
   "name": "python3"
  },
  "language_info": {
   "codemirror_mode": {
    "name": "ipython",
    "version": 3
   },
   "file_extension": ".py",
   "mimetype": "text/x-python",
   "name": "python",
   "nbconvert_exporter": "python",
   "pygments_lexer": "ipython3",
   "version": "3.11.1"
  }
 },
 "nbformat": 4,
 "nbformat_minor": 2
}
