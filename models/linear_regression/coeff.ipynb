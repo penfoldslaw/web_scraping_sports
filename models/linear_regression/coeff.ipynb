{
 "cells": [
  {
   "cell_type": "code",
   "execution_count": null,
   "metadata": {},
   "outputs": [],
   "source": [
    "from pathlib import Path\n",
    "\n",
    "# Current notebook directory\n",
    "notebook_dir = Path().resolve()\n",
    "\n",
    "# Relative path to the data file\n",
    "data_path = notebook_dir / \"../../historic_player_data/nba_ph_csv\"\n",
    "\n",
    "# Resolve the full path (optional for readability)\n",
    "data_path = data_path.resolve()\n",
    "\n",
    "# Read the data\n",
    "print(notebook_dir)\n",
    "print(\"Data Path:\", data_path)\n",
    "print(\"Path Exists:\", data_path.exists())  # Ensure the path is correct\n"
   ]
  },
  {
   "cell_type": "code",
   "execution_count": 13,
   "metadata": {},
   "outputs": [
    {
     "name": "stdout",
     "output_type": "stream",
     "text": [
      "2019-20 not found either for Shai Gilgeous-Alexander or defense\n",
      "2020-21 not found either for Shai Gilgeous-Alexander or defense\n",
      "2021-22 not found either for Shai Gilgeous-Alexander or defense\n",
      "Shai Gilgeous-Alexander\n"
     ]
    },
    {
     "data": {
      "text/plain": [
       "Date      0.278700\n",
       "MIN       0.110405\n",
       "PTS       0.143992\n",
       "FGM       0.283568\n",
       "FGA       0.156093\n",
       "FG%       0.204503\n",
       "3PM       1.000000\n",
       "3PA       0.542592\n",
       "3P%       0.597505\n",
       "FTM      -0.376146\n",
       "FTA      -0.325798\n",
       "FT%      -0.237795\n",
       "OREB     -0.083670\n",
       "DREB      0.116684\n",
       "REB       0.076398\n",
       "AST       0.178870\n",
       "STL      -0.134998\n",
       "BLK      -0.087580\n",
       "TOV      -0.037853\n",
       "PF       -0.099275\n",
       "+/-       0.089454\n",
       "DefRtg   -0.165406\n",
       "OffRtg    0.049255\n",
       "PACE     -0.054832\n",
       "Name: 3PM, dtype: float64"
      ]
     },
     "metadata": {},
     "output_type": "display_data"
    },
    {
     "name": "stdout",
     "output_type": "stream",
     "text": [
      "2019-20 not found either for Cason Wallace or defense\n",
      "2020-21 not found either for Cason Wallace or defense\n",
      "2021-22 not found either for Cason Wallace or defense\n",
      "2022-23 not found either for Cason Wallace or defense\n",
      "Cason Wallace\n"
     ]
    },
    {
     "data": {
      "text/plain": [
       "Date     -0.073433\n",
       "MIN       0.467398\n",
       "PTS       0.852638\n",
       "FGM       0.809661\n",
       "FGA       0.598292\n",
       "FG%       0.527014\n",
       "3PM       1.000000\n",
       "3PA       0.641838\n",
       "3P%       0.673817\n",
       "FTM      -0.063196\n",
       "FTA      -0.125095\n",
       "FT%      -0.020321\n",
       "OREB      0.069807\n",
       "DREB      0.054795\n",
       "REB       0.090026\n",
       "AST       0.031070\n",
       "STL      -0.269280\n",
       "BLK       0.097057\n",
       "TOV      -0.024960\n",
       "PF        0.193125\n",
       "+/-       0.242975\n",
       "DefRtg    0.233088\n",
       "OffRtg    0.037088\n",
       "PACE      0.101135\n",
       "Name: 3PM, dtype: float64"
      ]
     },
     "metadata": {},
     "output_type": "display_data"
    },
    {
     "name": "stdout",
     "output_type": "stream",
     "text": [
      "2019-20 not found either for Alex Caruso or defense\n",
      "2020-21 not found either for Alex Caruso or defense\n",
      "2021-22 not found either for Alex Caruso or defense\n",
      "Alex Caruso\n"
     ]
    },
    {
     "data": {
      "text/plain": [
       "Date      0.494228\n",
       "MIN       0.400383\n",
       "PTS       0.832794\n",
       "FGM       0.733631\n",
       "FGA       0.558799\n",
       "FG%       0.254695\n",
       "3PM       1.000000\n",
       "3PA       0.715316\n",
       "3P%       0.639621\n",
       "FTM      -0.000730\n",
       "FTA      -0.030056\n",
       "FT%       0.086883\n",
       "OREB      0.031870\n",
       "DREB      0.239546\n",
       "REB       0.225769\n",
       "AST       0.297821\n",
       "STL       0.092512\n",
       "BLK       0.116513\n",
       "TOV       0.241510\n",
       "PF       -0.001936\n",
       "+/-      -0.039663\n",
       "DefRtg   -0.074796\n",
       "OffRtg    0.263757\n",
       "PACE     -0.052067\n",
       "Name: 3PM, dtype: float64"
      ]
     },
     "metadata": {},
     "output_type": "display_data"
    },
    {
     "name": "stdout",
     "output_type": "stream",
     "text": [
      "2019-20 not found either for Jalen Williams or defense\n",
      "2020-21 not found either for Jalen Williams or defense\n",
      "2021-22 not found either for Jalen Williams or defense\n",
      "Jalen Williams\n"
     ]
    },
    {
     "data": {
      "text/plain": [
       "Date      0.224013\n",
       "MIN       0.244819\n",
       "PTS       0.595117\n",
       "FGM       0.508596\n",
       "FGA       0.430976\n",
       "FG%       0.361502\n",
       "3PM       1.000000\n",
       "3PA       0.695084\n",
       "3P%       0.691152\n",
       "FTM       0.144206\n",
       "FTA       0.155026\n",
       "FT%       0.068363\n",
       "OREB     -0.123944\n",
       "DREB     -0.198944\n",
       "REB      -0.229068\n",
       "AST       0.036378\n",
       "STL      -0.114981\n",
       "BLK       0.174837\n",
       "TOV       0.185282\n",
       "PF        0.223267\n",
       "+/-      -0.068495\n",
       "DefRtg   -0.157132\n",
       "OffRtg    0.110324\n",
       "PACE     -0.215198\n",
       "Name: 3PM, dtype: float64"
      ]
     },
     "metadata": {},
     "output_type": "display_data"
    },
    {
     "name": "stdout",
     "output_type": "stream",
     "text": [
      "2019-20 not found either for Isaiah Hartenstein or defense\n",
      "2020-21 not found either for Isaiah Hartenstein or defense\n",
      "2021-22 not found either for Isaiah Hartenstein or defense\n",
      "Isaiah Hartenstein\n"
     ]
    },
    {
     "data": {
      "text/plain": [
       "Date     -0.178779\n",
       "MIN      -0.151091\n",
       "PTS      -0.048207\n",
       "FGM      -0.053175\n",
       "FGA      -0.075113\n",
       "FG%       0.058057\n",
       "3PM       1.000000\n",
       "3PA       0.603023\n",
       "3P%       0.947717\n",
       "FTM      -0.116264\n",
       "FTA      -0.131278\n",
       "FT%      -0.137340\n",
       "OREB     -0.129536\n",
       "DREB     -0.092974\n",
       "REB      -0.123932\n",
       "AST      -0.171513\n",
       "STL      -0.128159\n",
       "BLK      -0.063634\n",
       "TOV      -0.075439\n",
       "PF       -0.134094\n",
       "+/-      -0.070394\n",
       "DefRtg   -0.030015\n",
       "OffRtg    0.009126\n",
       "PACE     -0.089451\n",
       "Name: 3PM, dtype: float64"
      ]
     },
     "metadata": {},
     "output_type": "display_data"
    },
    {
     "name": "stdout",
     "output_type": "stream",
     "text": [
      "2019-20 not found either for Derrick White or defense\n",
      "2020-21 not found either for Derrick White or defense\n",
      "2021-22 not found either for Derrick White or defense\n",
      "Derrick White\n"
     ]
    },
    {
     "data": {
      "text/plain": [
       "Date      0.210991\n",
       "MIN       0.277216\n",
       "PTS       0.766386\n",
       "FGM       0.709350\n",
       "FGA       0.575782\n",
       "FG%       0.391235\n",
       "3PM       1.000000\n",
       "3PA       0.799397\n",
       "3P%       0.719550\n",
       "FTM      -0.019798\n",
       "FTA      -0.009090\n",
       "FT%       0.088254\n",
       "OREB     -0.063028\n",
       "DREB      0.159046\n",
       "REB       0.120998\n",
       "AST       0.213189\n",
       "STL       0.147467\n",
       "BLK       0.059739\n",
       "TOV       0.039904\n",
       "PF       -0.145698\n",
       "+/-       0.268393\n",
       "DefRtg    0.184237\n",
       "OffRtg   -0.058458\n",
       "PACE      0.113973\n",
       "Name: 3PM, dtype: float64"
      ]
     },
     "metadata": {},
     "output_type": "display_data"
    },
    {
     "name": "stdout",
     "output_type": "stream",
     "text": [
      "2019-20 not found either for Jayson Tatum or defense\n",
      "2020-21 not found either for Jayson Tatum or defense\n",
      "2021-22 not found either for Jayson Tatum or defense\n",
      "Jayson Tatum\n"
     ]
    },
    {
     "data": {
      "text/plain": [
       "Date     -0.005676\n",
       "MIN       0.006164\n",
       "PTS       0.612077\n",
       "FGM       0.586754\n",
       "FGA       0.298355\n",
       "FG%       0.541524\n",
       "3PM       1.000000\n",
       "3PA       0.641456\n",
       "3P%       0.843486\n",
       "FTM      -0.061972\n",
       "FTA      -0.106068\n",
       "FT%      -0.111459\n",
       "OREB     -0.093841\n",
       "DREB      0.068389\n",
       "REB       0.033366\n",
       "AST      -0.207215\n",
       "STL      -0.086630\n",
       "BLK      -0.058620\n",
       "TOV      -0.084201\n",
       "PF        0.051331\n",
       "+/-       0.429309\n",
       "DefRtg    0.162096\n",
       "OffRtg   -0.216183\n",
       "PACE      0.204864\n",
       "Name: 3PM, dtype: float64"
      ]
     },
     "metadata": {},
     "output_type": "display_data"
    },
    {
     "name": "stdout",
     "output_type": "stream",
     "text": [
      "2019-20 not found either for Kristaps Porzingis or defense\n",
      "2020-21 not found either for Kristaps Porzingis or defense\n",
      "2021-22 not found either for Kristaps Porzingis or defense\n",
      "2023-24 not found either for Kristaps Porzingis or defense\n",
      "Kristaps Porzingis\n"
     ]
    },
    {
     "data": {
      "text/plain": [
       "Date      0.217263\n",
       "MIN       0.373390\n",
       "PTS       0.667550\n",
       "FGM       0.526792\n",
       "FGA       0.335709\n",
       "FG%       0.324371\n",
       "3PM       1.000000\n",
       "3PA       0.737422\n",
       "3P%       0.705265\n",
       "FTM      -0.004386\n",
       "FTA      -0.030234\n",
       "FT%      -0.048454\n",
       "OREB      0.008944\n",
       "DREB     -0.116627\n",
       "REB      -0.095124\n",
       "AST       0.128200\n",
       "STL      -0.275300\n",
       "BLK       0.002335\n",
       "TOV      -0.081692\n",
       "PF        0.185132\n",
       "+/-       0.323032\n",
       "DefRtg    0.087232\n",
       "OffRtg   -0.019478\n",
       "PACE      0.025932\n",
       "Name: 3PM, dtype: float64"
      ]
     },
     "metadata": {},
     "output_type": "display_data"
    },
    {
     "name": "stdout",
     "output_type": "stream",
     "text": [
      "2019-20 not found either for Chris Paul or defense\n",
      "2020-21 not found either for Chris Paul or defense\n",
      "2021-22 not found either for Chris Paul or defense\n",
      "Chris Paul\n"
     ]
    },
    {
     "data": {
      "text/plain": [
       "Date     -0.111921\n",
       "MIN       0.288223\n",
       "PTS       0.658394\n",
       "FGM       0.539299\n",
       "FGA       0.334392\n",
       "FG%       0.423213\n",
       "3PM       1.000000\n",
       "3PA       0.772353\n",
       "3P%       0.758241\n",
       "FTM       0.106604\n",
       "FTA       0.054385\n",
       "FT%       0.067932\n",
       "OREB     -0.021869\n",
       "DREB      0.164797\n",
       "REB       0.151244\n",
       "AST      -0.064199\n",
       "STL       0.081548\n",
       "BLK       0.115696\n",
       "TOV       0.001301\n",
       "PF        0.030706\n",
       "+/-       0.203943\n",
       "DefRtg   -0.071984\n",
       "OffRtg    0.104307\n",
       "PACE      0.044285\n",
       "Name: 3PM, dtype: float64"
      ]
     },
     "metadata": {},
     "output_type": "display_data"
    },
    {
     "name": "stdout",
     "output_type": "stream",
     "text": [
      "2019-20 not found either for De'Aaron Fox or defense\n",
      "2020-21 not found either for De'Aaron Fox or defense\n",
      "2021-22 not found either for De'Aaron Fox or defense\n",
      "De'Aaron Fox\n"
     ]
    },
    {
     "data": {
      "text/plain": [
       "Date      0.346072\n",
       "MIN       0.247355\n",
       "PTS       0.357637\n",
       "FGM       0.317902\n",
       "FGA       0.332717\n",
       "FG%       0.096987\n",
       "3PM       1.000000\n",
       "3PA       0.785455\n",
       "3P%       0.740967\n",
       "FTM      -0.242798\n",
       "FTA      -0.209571\n",
       "FT%      -0.039568\n",
       "OREB      0.098630\n",
       "DREB      0.192922\n",
       "REB       0.214625\n",
       "AST      -0.154352\n",
       "STL       0.206829\n",
       "BLK      -0.008160\n",
       "TOV       0.128508\n",
       "PF        0.045840\n",
       "+/-      -0.003993\n",
       "DefRtg   -0.158657\n",
       "OffRtg    0.130318\n",
       "PACE     -0.077733\n",
       "Name: 3PM, dtype: float64"
      ]
     },
     "metadata": {},
     "output_type": "display_data"
    },
    {
     "name": "stdout",
     "output_type": "stream",
     "text": [
      "2019-20 not found either for Devin Vassell or defense\n",
      "2020-21 not found either for Devin Vassell or defense\n",
      "2021-22 not found either for Devin Vassell or defense\n",
      "Devin Vassell\n"
     ]
    },
    {
     "data": {
      "text/plain": [
       "Date     -0.117185\n",
       "MIN       0.201747\n",
       "PTS       0.668912\n",
       "FGM       0.585661\n",
       "FGA       0.410662\n",
       "FG%       0.536025\n",
       "3PM       1.000000\n",
       "3PA       0.666660\n",
       "3P%       0.826601\n",
       "FTM      -0.093089\n",
       "FTA      -0.089495\n",
       "FT%      -0.063276\n",
       "OREB     -0.092730\n",
       "DREB      0.047189\n",
       "REB       0.016168\n",
       "AST       0.094792\n",
       "STL       0.042713\n",
       "BLK       0.037693\n",
       "TOV      -0.017718\n",
       "PF       -0.008205\n",
       "+/-       0.294873\n",
       "DefRtg    0.093590\n",
       "OffRtg    0.056485\n",
       "PACE      0.078237\n",
       "Name: 3PM, dtype: float64"
      ]
     },
     "metadata": {},
     "output_type": "display_data"
    },
    {
     "name": "stdout",
     "output_type": "stream",
     "text": [
      "2019-20 not found either for Harrison Barnes or defense\n",
      "2020-21 not found either for Harrison Barnes or defense\n",
      "2021-22 not found either for Harrison Barnes or defense\n",
      "Harrison Barnes\n"
     ]
    },
    {
     "data": {
      "text/plain": [
       "Date     -0.029939\n",
       "MIN       0.280036\n",
       "PTS       0.736457\n",
       "FGM       0.697970\n",
       "FGA       0.526958\n",
       "FG%       0.549026\n",
       "3PM       1.000000\n",
       "3PA       0.839004\n",
       "3P%       0.853458\n",
       "FTM      -0.018405\n",
       "FTA      -0.018417\n",
       "FT%      -0.005393\n",
       "OREB     -0.116482\n",
       "DREB      0.116371\n",
       "REB       0.044356\n",
       "AST       0.113755\n",
       "STL       0.052374\n",
       "BLK       0.091328\n",
       "TOV       0.038477\n",
       "PF        0.059119\n",
       "+/-       0.340171\n",
       "DefRtg    0.017161\n",
       "OffRtg    0.095394\n",
       "PACE      0.101983\n",
       "Name: 3PM, dtype: float64"
      ]
     },
     "metadata": {},
     "output_type": "display_data"
    },
    {
     "name": "stdout",
     "output_type": "stream",
     "text": [
      "2019-20 not found either for Victor Wembanyama or defense\n",
      "2020-21 not found either for Victor Wembanyama or defense\n",
      "2021-22 not found either for Victor Wembanyama or defense\n",
      "2022-23 not found either for Victor Wembanyama or defense\n",
      "Victor Wembanyama\n"
     ]
    },
    {
     "data": {
      "text/plain": [
       "Date      0.228288\n",
       "MIN       0.452351\n",
       "PTS       0.587568\n",
       "FGM       0.396787\n",
       "FGA       0.334276\n",
       "FG%       0.194453\n",
       "3PM       1.000000\n",
       "3PA       0.656478\n",
       "3P%       0.733909\n",
       "FTM       0.288316\n",
       "FTA       0.358089\n",
       "FT%       0.061942\n",
       "OREB     -0.117394\n",
       "DREB      0.396937\n",
       "REB       0.271412\n",
       "AST       0.062800\n",
       "STL       0.127048\n",
       "BLK      -0.062229\n",
       "TOV       0.303924\n",
       "PF        0.041105\n",
       "+/-       0.028738\n",
       "DefRtg   -0.305284\n",
       "OffRtg    0.203869\n",
       "PACE     -0.199834\n",
       "Name: 3PM, dtype: float64"
      ]
     },
     "metadata": {},
     "output_type": "display_data"
    }
   ],
   "source": [
    "import pandas as pd\n",
    "import os\n",
    "from IPython.display import display\n",
    "import numpy as np\n",
    "\n",
    "\n",
    "date_list = ['2019-20', '2020-21', '2021-22', '2022-23', '2023-24']\n",
    "player_name = ['Shai Gilgeous-Alexander', 'Cason Wallace', 'Alex Caruso', 'Jalen Williams', 'Isaiah Hartenstein', 'Derrick White', 'Jayson Tatum', 'Kristaps Porzingis', \n",
    "               'Chris Paul',\"De'Aaron Fox\", \"Devin Vassell\",\"Harrison Barnes\", \"Victor Wembanyama\"]\n",
    "player_dataframes = {}  # Dictionary to store each player's DataFrame\n",
    "\n",
    "for player in player_name:\n",
    "    single_player_df = pd.DataFrame()  # Initialize a DataFrame for the current player\n",
    "    defense_df = pd.DataFrame()  # Initialize a DataFrame for the current player's defense\n",
    "    \n",
    "    for date in date_list:\n",
    "        \n",
    "        path = f\"D:/nba_player_csv_historic/season_{date}/all_quarters/{player}_content.csv\"\n",
    "        path_defense = f\"D:/nba_defense_history_csv/defense_csv_{date}/all_quarter_defense_content.csv\"\n",
    "\n",
    "        if os.path.exists(path) and os.path.exists(path_defense):\n",
    "            #player data\n",
    "            season_df_player = pd.read_csv(path)\n",
    "            season_df_player['season'] = date\n",
    "            single_player_df = pd.concat([single_player_df, season_df_player], ignore_index=True)\n",
    "            #defense data\n",
    "            defense_df_season = pd.read_csv(path_defense)\n",
    "            defense_df_season['season_defense'] = date\n",
    "            defense_df = pd.concat([defense_df, defense_df_season], ignore_index=True)\n",
    "            \n",
    "        else:\n",
    "            print(f'{date} not found either for {player} or defense')\n",
    "    \n",
    "    # Add the player's DataFrame to the dictionary \n",
    "    pd.set_option('display.max_rows', 1000)  # Maximum number of rows to display\n",
    "    pd.set_option('display.max_columns', None)  # Show all columns\n",
    "    pd.set_option('display.width', 1000)  # Adjust column width for better readability\n",
    "    \n",
    "    player_dataframes[player] = single_player_df\n",
    "\n",
    "    df_defense = defense_df[['TEAM', 'DefRtg', 'season_defense' ,'OffRtg', 'PACE']]\n",
    "\n",
    "    merged_df = pd.merge(player_dataframes[player], df_defense, how='inner', left_on=['Away','season'], right_on=['TEAM','season_defense']).reset_index(drop=True)\n",
    "    merged_df = merged_df[['Date','MIN','PTS','FGM', 'FGA', 'FG%', '3PM', '3PA', '3P%', 'FTM', 'FTA', 'FT%', \n",
    "    'OREB', 'DREB', 'REB', 'AST', 'STL', 'BLK', 'TOV', 'PF', '+/-', 'DefRtg' , 'OffRtg', 'PACE']]\n",
    "    merged_df = merged_df.sort_values(by=\"Date\")\n",
    "    merged_df['Date'] = pd.to_datetime(merged_df['Date']).astype('int64') // 10**9\n",
    "    #display(merged_df.head(5))\n",
    "\n",
    "    # train_data = merged_df[merged_df['Date'] < '2023-01-01']  # Training: First 4 seasons\n",
    "    # test_data = merged_df[merged_df['Date'] >= '2023-01-01']  # Testing: Most recent season\n",
    "\n",
    "    # Continue with your existing operations\n",
    "    timestamp = int(pd.Timestamp('2024-12-31').timestamp())\n",
    "    train_data = merged_df[merged_df['Date'] < timestamp]  # Replace '2023-01-01' with the corresponding timestamp\n",
    "    test_data = merged_df[merged_df['Date'] >= timestamp]  # Replace '2023-01-01' with the corresponding timestamp\n",
    "\n",
    "    print(player)\n",
    "    correlations = merged_df.corr()['3PM']\n",
    "    display(correlations)\n"
   ]
  }
 ],
 "metadata": {
  "kernelspec": {
   "display_name": "Python 3",
   "language": "python",
   "name": "python3"
  },
  "language_info": {
   "codemirror_mode": {
    "name": "ipython",
    "version": 3
   },
   "file_extension": ".py",
   "mimetype": "text/x-python",
   "name": "python",
   "nbconvert_exporter": "python",
   "pygments_lexer": "ipython3",
   "version": "3.11.1"
  }
 },
 "nbformat": 4,
 "nbformat_minor": 2
}
