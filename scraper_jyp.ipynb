{
 "cells": [
  {
   "cell_type": "code",
   "execution_count": 2,
   "metadata": {},
   "outputs": [],
   "source": [
    "from bs4 import BeautifulSoup\n",
    "import requests\n",
    "import pandas as pd"
   ]
  },
  {
   "cell_type": "code",
   "execution_count": 3,
   "metadata": {},
   "outputs": [],
   "source": [
    "url = 'https://www.nba.com/stats/leaders?PerMode=Totals'\n",
    "response = requests.get(url)\n",
    "soup = BeautifulSoup(response.content, 'html.parser')"
   ]
  },
  {
   "cell_type": "code",
   "execution_count": 4,
   "metadata": {},
   "outputs": [],
   "source": [
    "with open('nba_html_2024.html', 'r', encoding='utf-8') as file:\n",
    "    html_content = file.read()"
   ]
  },
  {
   "cell_type": "code",
   "execution_count": 5,
   "metadata": {},
   "outputs": [],
   "source": [
    "# Parse the HTML content with BeautifulSoup\n",
    "soup = BeautifulSoup(html_content, 'html.parser')\n",
    "\n",
    "# Find the table\n",
    "table = soup.find('table', class_='Crom_table__p1iZz')\n",
    "\n",
    "# Extract headers\n",
    "headers = [header.text.strip() for header in table.find_all('th')]\n",
    "\n",
    "# stats = [headers.text.strip() for headers in table.find_all('a', href='/stats/')]\n",
    "stats = [headers.text.strip() for headers in table.find_all('td')]\n",
    "\n",
    "tr_elements = soup.find_all('tr')\n",
    "\n",
    "\n",
    "giannis_tag = soup.find('a', href='/stats/player/203507/')"
   ]
  },
  {
   "cell_type": "code",
   "execution_count": null,
   "metadata": {},
   "outputs": [],
   "source": [
    "print(headers)"
   ]
  },
  {
   "cell_type": "code",
   "execution_count": null,
   "metadata": {},
   "outputs": [],
   "source": [
    "print(stats)"
   ]
  },
  {
   "cell_type": "code",
   "execution_count": 8,
   "metadata": {},
   "outputs": [],
   "source": [
    "table_data = []\n",
    "for tr in tr_elements:\n",
    "    row_data = [td.get_text(strip=True) for td in tr.find_all('td')]\n",
    "    table_data.append(row_data)"
   ]
  },
  {
   "cell_type": "code",
   "execution_count": null,
   "metadata": {},
   "outputs": [],
   "source": [
    "table_data[1]"
   ]
  },
  {
   "cell_type": "code",
   "execution_count": 10,
   "metadata": {},
   "outputs": [],
   "source": [
    "del headers[30:]"
   ]
  },
  {
   "cell_type": "code",
   "execution_count": 11,
   "metadata": {},
   "outputs": [],
   "source": [
    "df = pd.DataFrame(table_data, columns = headers)"
   ]
  },
  {
   "cell_type": "code",
   "execution_count": null,
   "metadata": {},
   "outputs": [],
   "source": [
    "df['Player'].head(50)"
   ]
  },
  {
   "cell_type": "code",
   "execution_count": null,
   "metadata": {},
   "outputs": [],
   "source": [
    "import requests\n",
    "\n",
    "# Define the URL and parameters for the endpoint\n",
    "url = \"https://stats.nba.com/stats/playergamelog\"\n",
    "params = {\n",
    "    \"PlayerID\": 201939,  # Example: Stephen Curry's player ID\n",
    "    \"Season\": \"2024-25\",  # Specify the season\n",
    "    \"SeasonType\": \"Regular Season\"  # Options: \"Regular Season\", \"Playoffs\"\n",
    "}\n",
    "\n",
    "# Set up the headers to mimic a browser request\n",
    "headers = {\n",
    "    \"User-Agent\": \"Mozilla/5.0 (Windows NT 10.0; Win64; x64) AppleWebKit/537.36 (KHTML, like Gecko) Chrome/115.0.0.0 Safari/537.36\",\n",
    "    \"Referer\": \"https://www.nba.com/\",\n",
    "    \"Accept\": \"application/json, text/plain, */*\",\n",
    "    \"Connection\": \"keep-alive\",\n",
    "}\n",
    "\n",
    "# Send the GET request\n",
    "response = requests.get(url, headers=headers, params=params)\n",
    "\n",
    "# Check if the request was successful\n",
    "if response.status_code == 200:\n",
    "    # Parse JSON data\n",
    "    data = response.json()\n",
    "    print(data)  # This will print the raw JSON data\n",
    "else:\n",
    "    print(f\"Request failed with status code {response.status_code}\")\n"
   ]
  },
  {
   "cell_type": "code",
   "execution_count": null,
   "metadata": {},
   "outputs": [
    {
     "ename": "",
     "evalue": "",
     "output_type": "error",
     "traceback": [
      "\u001b[1;31mRunning cells with 'Python 3.11.1' requires the ipykernel package.\n",
      "\u001b[1;31mRun the following command to install 'ipykernel' into the Python environment. \n",
      "\u001b[1;31mCommand: 'c:/Users/mandy/AppData/Local/Programs/Python/Python311/python.exe -m pip install ipykernel -U --user --force-reinstall'"
     ]
    }
   ],
   "source": [
    "from nba_api.stats.endpoints import playergamelog\n",
    "from nba_api.stats.static import teams, players\n",
    "import pandas as pd\n",
    "\n",
    "# Get LeBron James' Player ID\n",
    "player_name = \"LeBron James\"\n",
    "player_info = players.find_players_by_full_name(player_name)\n",
    "player_id = player_info[0]['id']\n",
    "\n",
    "# Get Atlanta Hawks' Team ID\n",
    "team_name = \"Atlanta Hawks\"\n",
    "team_info = teams.find_teams_by_full_name(team_name)\n",
    "team_id = team_info[0]['id']\n",
    "\n",
    "# Fetch LeBron James' game logs for the 2019-20 season\n",
    "season = \"2019-20\"\n",
    "gamelog = playergamelog.PlayerGameLog(player_id=player_id, season=season)\n",
    "gamelog_df = gamelog.get_data_frames()[0]\n",
    "\n",
    "# Filter games against the Hawks\n",
    "hawks_games = gamelog_df[gamelog_df['MATCHUP'].str.contains(\"ATL\")]\n",
    "\n",
    "# Display relevant stats\n",
    "hawks_games_summary = hawks_games[['GAME_DATE', 'MATCHUP', 'PTS', 'REB', 'AST', 'STL', 'BLK']]\n",
    "print(hawks_games_summary)\n"
   ]
  },
  {
   "cell_type": "code",
   "execution_count": null,
   "metadata": {},
   "outputs": [],
   "source": []
  },
  {
   "cell_type": "code",
   "execution_count": null,
   "metadata": {},
   "outputs": [],
   "source": []
  }
 ],
 "metadata": {
  "kernelspec": {
   "display_name": "Python 3",
   "language": "python",
   "name": "python3"
  },
  "language_info": {
   "codemirror_mode": {
    "name": "ipython",
    "version": 3
   },
   "file_extension": ".py",
   "mimetype": "text/x-python",
   "name": "python",
   "nbconvert_exporter": "python",
   "pygments_lexer": "ipython3",
   "version": "3.11.1"
  }
 },
 "nbformat": 4,
 "nbformat_minor": 2
}
